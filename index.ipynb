{
 "cells": [
  {
   "cell_type": "code",
   "execution_count": 2,
   "metadata": {},
   "outputs": [],
   "source": [
    "import pandas as pd\n",
    "import numpy as np"
   ]
  },
  {
   "cell_type": "code",
   "execution_count": 90,
   "metadata": {},
   "outputs": [],
   "source": [
    "import re\n",
    "import string\n",
    "\n",
    "punctuation = string.punctuation\n",
    "\n",
    "def process_string(text):\n",
    "    text = text.translate(str.maketrans(\"\", \"\", punctuation))\n",
    "    text = re.sub(r'\\s+', ' ', text)\n",
    "    text = text.strip()\n",
    "    return text.lower()"
   ]
  },
  {
   "cell_type": "code",
   "execution_count": 91,
   "metadata": {},
   "outputs": [],
   "source": [
    "import requests\n",
    "from bs4 import BeautifulSoup\n",
    "\n",
    "class WebScraper:\n",
    "    def __init__(self, url) -> None:\n",
    "        self.url = url\n",
    "        self.soup = self.get_html_content()\n",
    "\n",
    "    def get_html_content(self):\n",
    "        try:\n",
    "            # Make the HTTP request\n",
    "            response = requests.get(self.url)\n",
    "            \n",
    "            # Check if the request was successful\n",
    "            if response.status_code == 200:\n",
    "                # Parse the HTML content\n",
    "                soup = BeautifulSoup(response.content, 'html.parser')\n",
    "                return soup\n",
    "            else:\n",
    "                return f\"Failed to retrieve the page. Status code: {response.status_code}\"\n",
    "        except requests.exceptions.RequestException as e:\n",
    "            return f\"An error occurred: {e}\"\n",
    "    \n",
    "    def get_text_by_classname(self, class_name=\"message-body js-selectToQuote\"):\n",
    "        texts = []\n",
    "        try:\n",
    "            elements = self.soup.find_all(class_=class_name)\n",
    "            for element in elements:\n",
    "                texts.append(process_string(element.get_text().replace('\\n', ' ').replace('\\t', ' ').replace('\\xa0', '')))\n",
    "\n",
    "            return texts\n",
    "\n",
    "        except Exception as e:\n",
    "            return f\"An error occurred while fetching the elements: {e}\"\n",
    "    "
   ]
  },
  {
   "cell_type": "code",
   "execution_count": 92,
   "metadata": {},
   "outputs": [],
   "source": [
    "scrapper = WebScraper(\"https://forum.adrenaline.com.br/threads/indicacoes-de-aquisicao-de-pc-novo-configuracao-completa-gamer-profissional-uso-casual.691749/\")"
   ]
  },
  {
   "cell_type": "code",
   "execution_count": 93,
   "metadata": {},
   "outputs": [
    {
     "data": {
      "text/plain": [
       "['tópico para concentrar mensagens de quem busca dicas e indicações para montar um pc novo',\n",
       " 'pessoal uma dúvida sobre config to pensando em montar um pc com as especificações abaixo comprando peça por peça para dar uma economizada i5 11400f 16gb ram 2x8gb 3200 placa mãe h510mt m2 v20 rtx 3050 8gb fonte corsair 500w 80 plus white busco gastar no máximo 67k comprando uma peça de cada vez acompanhando as promoções etc vocês mudariam algo pc para uso no dia a dia trabalho homeoffice e jogos em full hd vi algumas pessoas falando mal da 11ª geração da intel pensei em talvez pegar um i3 12100f mas realmente não sei qual seria melhor edit pro meu trabalho não preciso de tanta coisa uso apenas o google chrome com várias abas abertas rsrs',\n",
       " 'senhores deem uma luz aqui por favor estou querendo montar um pc para jogar em 4k e 60fps mas dependendo do orçamento final eu fico com o quadhd a ideia é montar um em torno do amd ryzen 5600x e da rtx3080 o que eu posso comprar de placa mãe cooler vram etc levando em consideração esse processador e essa gpu sempre óbvio considerando o custo benefício do restante da máquina acham que esse processador é o melhor mesmo para jogo dependendo do valor talvez eu fique com uma 3060ti que pelos testes que vi sobra no quadhd e ainda roda 4k legal se mexer em algumas coisas',\n",
       " 'boa tarde pessoal ando meio desatualizado no quesito hardware e seus respectivos valores então gostaria de saber o seguinte sabem se consigo montar uma config decente pra games com até 5 ou 6 mil reais se sim poderiam me passar alguma por favor obrigado desde já',\n",
       " 'retfield disse boa tarde pessoal ando meio desatualizado no quesito hardware e seus respectivos valores então gostaria de saber o seguinte sabem se consigo montar uma config decente pra games com até 5 ou 6 mil reais se sim poderiam me passar alguma por favor obrigado desde já clique para expandir voltado pra jogos core i5 11400f 1100 reais placamãe aorus b560 890 reais 2x8gb 3000 crucial 540 reais ssd 512gb 330 reais fonte cm masterwatt 350 reais placa de vídeo rtx3050 zotac 289900 com dlss ligado é até 40 mais rápida que a concorrência que seria a 6600xt fora os benefícios nvidia se precisar cortar custo placamãe asrock h510 620 reais core i3 10105f 550 reais não recomendo cortar custo de placa de vídeo até porque esse cpu acima é e sempre será suficiente para a quantidade de frames que a rtx3050 consegue produzir mesmo com dlss ligado',\n",
       " 'boa tarde pessoal tenho uma máquina frankenstein aqui i5 2310 12 gb ram genéricas rx 480 8 gb da msi fonte evga 650 w quero dar um up inicialmente na cpu queria opções para fazer essa mudança a placa de vídeo ta velhinha mas diante dos preços atuais estou me agarrando a ela mesma tenho preferência por processadores com vídeo integrado pois já tive a experiência de ter uma placa de vídeo queimada e ficar com o pc inutilizado por um tempo a finalidade do pc será para jogos mesmo porém me contento com um bom full hd com isso quais cpu mobo memoria posso estar pegando para ter uma máquina rodando os títulos atuais em 60 fps ps tenho disponível 3500 para atualizar',\n",
       " 'de volta ao fórum depois de uns 7 anos que foi quando montei minha primeira máquina aos 16 anos montei outra máquina para streaming há 15 ano mas estava a par do mercado hoje preciso de uma máquina para trabalhar para 2 monitores e multi tarefas alguém consegue me recomendar um processador vídeo integrado e placa mãe custo benefício para desempenho mediano',\n",
       " 'estou montando um pc novo e cheguei na seguinte configuração pc será usado para edição de fotos lr e ps além de jogar red dead redemption 2 war thunder ac odyssey e etc não pretendo fazer oc placamãe b550m am4 ssd xpg sx8100 1tb cpu ryzen 5600x ram xpg gammix d20 32gb 2x 16 3200 ddr4 cl16 fonte evga 500w gpu rx 570 4gb fonte e gpu vou aproveitar do pc antigo falta cooler do processador e gabinete talvez um jogo de fans pra circulação de ar no gabinete o que me indicam num bom custobenefício tenho mais r 600 pra comprar estes 3 fariam alguma modificação',\n",
       " 'retfield disse boa tarde pessoal ando meio desatualizado no quesito hardware e seus respectivos valores então gostaria de saber o seguinte sabem se consigo montar uma config decente pra games com até 5 ou 6 mil reais se sim poderiam me passar alguma por favor obrigado desde já clique para expandir marcelocruz disse voltado pra jogos core i5 11400f 1100 reais placamãe aorus b560 890 reais 2x8gb 3000 crucial 540 reais ssd 512gb 330 reais fonte cm masterwatt 350 reais placa de vídeo rtx3050 zotac 289900 com dlss ligado é até 40 mais rápida que a concorrência que seria a 6600xt fora os benefícios nvidia se precisar cortar custo placamãe asrock h510 620 reais core i3 10105f 550 reais não recomendo cortar custo de placa de vídeo até porque esse cpu acima é e sempre será suficiente para a quantidade de frames que a rtx3050 consegue produzir mesmo com dlss ligado clique para expandir eu já trocaria o kit processadorplacamemória para um i312100f mais barato uma placa mãe b660 mais caro e memória ddr4 e se quiser ousar um pouco e caçar memórias ddr5 o preço pouco mudaria',\n",
       " 'mandanudes disse eu já trocaria o kit processadorplacamemória para um i312100f mais barato uma placa mãe b660 mais caro e memória ddr4 e se quiser ousar um pouco e caçar memórias ddr5 o preço pouco mudaria clique para expandir é uma também em jogos o 11400f tem a mesma performance plus mais barato no total e com placa melhor e ainda tem 2 núcleos e 4 threads a mais ainda não vejo nenhum sentido no 12100f mas certamente não seria uma escolha ruim tb no futuro breve tanto 12100f quanto 11400f serão lixos então não tem mto porque comprar pensando em ddr5',\n",
       " 'estou montando um pc e até agora comprei uma placa mãe b550m plus ryzen 5800x e placa de vídeo rx6600 por gentileza me deem indicações de memórias ram para comprar e também fonte pois eu tô enferrujado demais depois de 6 anos valeu',\n",
       " 'igor borges disse senhores deem uma luz aqui por favor estou querendo montar um pc para jogar em 4k e 60fps mas dependendo do orçamento final eu fico com o quadhd a ideia é montar um em torno do amd ryzen 5600x e da rtx3080 o que eu posso comprar de placa mãe cooler vram etc levando em consideração esse processador e essa gpu sempre óbvio considerando o custo benefício do restante da máquina acham que esse processador é o melhor mesmo para jogo dependendo do valor talvez eu fique com uma 3060ti que pelos testes que vi sobra no quadhd e ainda roda 4k legal se mexer em algumas coisas clique para expandir alguém pode dar uma força aqui',\n",
       " 'igor borges disse alguém pode dar uma força aqui clique para expandir placas mães deram uma boa subida a não ser que você queria algum feature específico de placa mãe pode ir nessa b550 é a que eu considero minimamente aceitável pra uma rtx 3080 e ryzen 5000 placamãe msi mag b550m bazooka amd am4 matx encontre as melhores ofertas aqui no kabum confira nossa linha de computadores eletrônicos celulares notebooks tablets câmeras digitais e mais compre já wwwkabumcombr se tiver mais bala na agulha eu tenho uma x570 tuf plus e recomendo apesar da ventoinha de chipset nunca desligar e isso me incomodar não faz barulho mas medo de ela falhar com o tempo placamãe asus tuf gaming x570plusbr amd am4 atx ddr4 a placamãe asus tuf gaming x570plusbr amd ddr4 reúne os elementos da plataforma amd e combina com funcionalidades para jogos e durabilidade confira wwwkabumcombr cooler tem duas opções o pcyes notus b melhor cxb da atualidade ou então se quiser um pouco mais de capacidade de refrigeramento até pra fazer upgrades futuros o fuma 2 é o rei atualmente vc encontra ambos na pichaukabum cheque em qual loja está mais barato vram a recomendação de sempre é crucial ballistx de 3000mhz 2x8gb da uma garimpada que acha 2 pentes por 500 reais sobe fácil até 3400 se estiver em falta tem a team force de 3200 na pichau mas a latencia é pior o intel i5 12600 e 12400 são ainda mais fortes que o 5600x pra jogos se conseguir uma placa mãe ddr4 b660 com bckl destravado pra fazer over mas eu estou por favor das melhores placas mães intel pra te recomendar o 5600x não tem erro também não post duplo é unido automaticamente 22022022 antoniocarlos disse estou montando um pc e até agora comprei uma placa mãe b550m plus ryzen 5800x e placa de vídeo rx6600 por gentileza me deem indicações de memórias ram para comprar e também fonte pois eu tô enferrujado demais depois de 6 anos valeu clique para expandir recomendação de memória pra você é a mesma do colega acima fonte eu tenho essa aqui wpm e recomendo fonte sharkoon wpm gold zero 650w 80 plus gold semimodular o design semimodular também garante uma fácil instalação e ótima aparência saiba mais wwwkabumcombr apesar de ser sharkoon é plataforma cwt moderna tenho o modelo de 750w num pc de fazer dinheiro aqui há mais de 6 meses puxando 600w pode confiar',\n",
       " 'sephirotic disse placas mães deram uma boa subida a não ser que você queria algum feature específico de placa mãe pode ir nessa b550 é a que eu considero minimamente aceitável pra uma rtx 3080 e ryzen 5000 placamãe msi mag b550m bazooka amd am4 matx encontre as melhores ofertas aqui no kabum confira nossa linha de computadores eletrônicos celulares notebooks tablets câmeras digitais e mais compre já wwwkabumcombr se tiver mais bala na agulha eu tenho uma x570 tuf plus e recomendo apesar da ventoinha de chipset nunca desligar e isso me incomodar não faz barulho mas medo de ela falhar com o tempo placamãe asus tuf gaming x570plusbr amd am4 atx ddr4 a placamãe asus tuf gaming x570plusbr amd ddr4 reúne os elementos da plataforma amd e combina com funcionalidades para jogos e durabilidade confira wwwkabumcombr cooler tem duas opções o pcyes notus b melhor cxb da atualidade ou então se quiser um pouco mais de capacidade de refrigeramento até pra fazer upgrades futuros o fuma 2 é o rei atualmente vc encontra ambos na pichaukabum cheque em qual loja está mais barato vram a recomendação de sempre é crucial ballistx de 3000mhz 2x8gb da uma garimpada que acha 2 pentes por 500 reais sobe fácil até 3400 se estiver em falta tem a team force de 3200 na pichau mas a latencia é pior o intel i5 12600 e 12400 são ainda mais fortes que o 5600x pra jogos se conseguir uma placa mãe ddr4 b660 com bckl destravado pra fazer over mas eu estou por favor das melhores placas mães intel pra te recomendar o 5600x não tem erro também não post duplo é unido automaticamente 22022022 recomendação de memória pra você é a mesma do colega acima fonte eu tenho essa aqui wpm e recomendo fonte sharkoon wpm gold zero 650w 80 plus gold semimodular o design semimodular também garante uma fácil instalação e ótima aparência saiba mais wwwkabumcombr apesar de ser sharkoon é plataforma cwt moderna tenho o modelo de 750w num pc de fazer dinheiro aqui há mais de 6 meses puxando 600w pode confiar clique para expandir show irmão confirma pra mim se são esses produtos mesmo placa mãe httpswwwkabumcombrproduto108346placamaeasustufgamingx570plusbramdam4atxddr4 explica um pouco melhor esse lance da ventoinha nunca desligar até com o pc totalmente desligado ela não para caso tenha outra pra recomendar com o máximo de segurança pode falar que eu analiso cooler httpswwwkabumcombrproduto17llga12002fans120mm6heatpipesscfm2000 vram httpswwwkabumcombrproduto112x83000mhzddr4cl15vermelhabl2k8g30c15u4r ou httpswwwkabumcombrproduto11b2x83200mhzddr4cl16brancabl2k8g32c16u4w sobre vram queria perguntar se não seria o caso de pegar uma ddr5 e se existe diferença significativa entre essa de 3000mhz e 3200mhz e o processador caso eu queria trocar é esse aqui httpswwwkabumcombrproduto247ghz49ghzmaxturbolga1700bx8071512600k qual seria na prática a diferença dele pro 5600x se eu quiser trocar a 3080 pela 3060ti continuo com o mesmo restante das peças ou troco alguma coisa estou pensando seriamente devido a enorme diferença no preço o que pode me dizer da 6800xt acompanharia também todo o restante das peças agradeço a atenção e a ajuda edit esqueci de falar de gabinete ssd e fonte ajudame nisso também rs',\n",
       " 'igor borges disse show irmão confirma pra mim se são esses produtos mesmo placa mãe httpswwwkabumcombrproduto108346placamaeasustufgamingx570plusbramdam4atxddr4 explica um pouco melhor esse lance da ventoinha nunca desligar até com o pc totalmente desligado ela não para caso tenha outra pra recomendar com o máximo de segurança pode falar que eu analiso cooler httpswwwkabumcombrproduto17llga12002fans120mm6heatpipesscfm2000 vram httpswwwkabumcombrproduto112x83000mhzddr4cl15vermelhabl2k8g30c15u4r ou httpswwwkabumcombrproduto11b2x83200mhzddr4cl16brancabl2k8g32c16u4w sobre vram queria perguntar se não seria o caso de pegar uma ddr5 e se existe diferença significativa entre essa de 3000mhz e 3200mhz e o processador caso eu queria trocar é esse aqui httpswwwkabumcombrproduto247ghz49ghzmaxturbolga1700bx8071512600k qual seria na prática a diferença dele pro 5600x se eu quiser trocar a 3080 pela 3060ti continuo com o mesmo restante das peças ou troco alguma coisa estou pensando seriamente devido a enorme diferença no preço o que pode me dizer da 6800xt acompanharia também todo o restante das peças agradeço a atenção e a ajuda edit esqueci de falar de gabinete ssd e fonte ajudame nisso também rs clique para expandir eu esqueci de deixar claro que a ventoinha que me referia é a pequena ventoinha de chipset que fica embaixo dos slots de memória ram o chipset x570 originalmente precisava de uma ventoinha para manterse em temperaturas amenas quando saturando as linhas pcie40 teoricamente ela deveria desligar com o computador em repouso com o pc desligado ela desliga não tem nada a ver com as ventoinhas de cpugabinete essa são independentes e é claro que quando o pc desliga ela vai desligar de qualquer jeito eu dei uma olhada nas opções de placas mães e os preços estão ridículos fora esses dois modelos realmente eu não tenho nenhum outro que eu ache que valha o cxb sim o cooler é esse mesmo as memórias eu recomendo as de 3000mhz o modelo de 3000 mhz vai subir pra 3200 de qualquer jeito atenção ddr5 só funciona placas mães com slot ddr5 não é intercambeável com ddr4 você teria que comprar uma placa mãe com suporte a ddr5 são mais caras e a memória também o custo benefício não vale a pena pra um pc intermediário como o seu o processador intel entrega mais performance single core entre 510 a mais mas na prática é quase imperceptível essa diferença visto que o que mais empurra frames em jogos é no fim das contas a gpu mas o combo sai mais caro e se você quiser fazer o downgrade pra 3060 ti não acho que valhe a pena pagar mais caro no cpu o combo com a 5600x é o que considero o minimamente adequado pra empurrar uma 3080 não pegaria um cpu pior do que esse e é igualmente adequado pra levar a 3060 ti não recomendo amd ainda mais com um orçamento acima de 4 mil reais nessa geração a nvidia está com features de qualidade gráfica muito mais interessantes que a amd raytracing performa 3050 melhor na mesma faixa de preço sem contar supersampling dlss que aumenta a performance em mais de 30 sem perdas significantes de qualidade eu preferiria comprar uma 3070 ou 3070 ti do que a 6800 xt se você quer economizar e não quer desembolçar o valor de uma 3080 a não ser que você queira fazer uma build pensando especificamente em jogos que não tem suporte a ambas tecnologias que é o caso de simuladores de vôo e de corrida nesse caso a economia numa amd pode ser mais interessante o que você precisa pensar mais na questão de casar com a gpu além dos jogos que vai jogar é em primeiro lugar que monitor usará para jogar vou dar uma recomendação grosseira na minha opinião 1080p 30503060 1440p 6075hz 30603060 ti 1440p 144hz ou 1440p 100hz ultrawide 3060ti3070ti 4k 60hz 30703080 4k 120hz 3080 ti3090 comprar uma 3080 pra um monitor 1080p mesmo que seja 240hz acredito ser desperdício por exemplo',\n",
       " 'sephirotic disse eu esqueci de deixar claro que a ventoinha que me referia é a pequena ventoinha de chipset que fica embaixo dos slots de memória ram o chipset x570 originalmente precisava de uma ventoinha para manterse em temperaturas amenas quando saturando as linhas pcie40 teoricamente ela deveria desligar com o computador em repouso com o pc desligado ela desliga não tem nada a ver com as ventoinhas de cpugabinete essa são independentes e é claro que quando o pc desliga ela vai desligar de qualquer jeito eu dei uma olhada nas opções de placas mães e os preços estão ridículos fora esses dois modelos realmente eu não tenho nenhum outro que eu ache que valha o cxb sim o cooler é esse mesmo as memórias eu recomendo as de 3000mhz o modelo de 3000 mhz vai subir pra 3200 de qualquer jeito atenção ddr5 só funciona placas mães com slot ddr5 não é intercambeável com ddr4 você teria que comprar uma placa mãe com suporte a ddr5 são mais caras e a memória também o custo benefício não vale a pena pra um pc intermediário como o seu o processador intel entrega mais performance single core entre 510 a mais mas na prática é quase imperceptível essa diferença visto que o que mais empurra frames em jogos é no fim das contas a gpu mas o combo sai mais caro e se você quiser fazer o downgrade pra 3060 ti não acho que valhe a pena pagar mais caro no cpu o combo com a 5600x é o que considero o minimamente adequado pra empurrar uma 3080 não pegaria um cpu pior do que esse e é igualmente adequado pra levar a 3060 ti não recomendo amd ainda mais com um orçamento acima de 4 mil reais nessa geração a nvidia está com features de qualidade gráfica muito mais interessantes que a amd raytracing performa 3050 melhor na mesma faixa de preço sem contar supersampling dlss que aumenta a performance em mais de 30 sem perdas significantes de qualidade eu preferiria comprar uma 3070 ou 3070 ti do que a 6800 xt se você quer economizar e não quer desembolçar o valor de uma 3080 a não ser que você queira fazer uma build pensando especificamente em jogos que não tem suporte a ambas tecnologias que é o caso de simuladores de vôo e de corrida nesse caso a economia numa amd pode ser mais interessante o que você precisa pensar mais na questão de casar com a gpu além dos jogos que vai jogar é em primeiro lugar que monitor usará para jogar vou dar uma recomendação grosseira na minha opinião 1080p 30503060 1440p 6075hz 30603060 ti 1440p 144hz ou 1440p 100hz ultrawide 3060ti3070ti 4k 60hz 30703080 4k 120hz 3080 ti3090 comprar uma 3080 pra um monitor 1080p mesmo que seja 240hz acredito ser desperdício por exemplo clique para expandir entendi mano com relação aos monitores eu ainda não vi nada e ainda não estudei o assunto realmente nem consigo conversar contigo ainda mas eu vou pesquisar sobre ainda e o gabinete pra caber tudo isso e o ssd e a fonte também o que recomenda',\n",
       " 'sephirotic disse crucial ballistx de 3000mhz 2x8gb clique para expandir pesquisei e tem duas memórias diferentes sport lt 3000mhz e a rgb 3200mhz seria melhor a rgb com 3200mhz em tempo um watercooler se faz necessário com esse processador obrigado',\n",
       " 'fala povo td bem arrumei um trampo e finalmente posso comprar um pc foda hoje eu possuo um note i78750h com uma gtx1060 6gb vou vender ele e o meu ps4 e estava querendo comprar um pc na faixa de 10k porque estava afim de finalmente começar a jogar em resolução 4k com esse orçamento qual config vcs me recomendam',\n",
       " 'galera estou há anos parado e sem atualizar o meu pc atualmente gastando até 6 mil quais as peças de melhor custoxbenefício',\n",
       " 'galera duvida sobre o up que fiz sai de memoria 2666mhz para 3600mhz o problema é que usando a b450m steel legend não consigo fazer o windows subir usando o xmp de 3600mhz consegui usar normalmente com 3533mhz pelo xmp o que é dito como limite oc no site da placa mãe gostaria de saber se alguém conseguiu rodar memorias com maiores frequências com essa placa mãe ou de fato o limite é 3533mhz',\n",
       " 'alfredo cardoso neto disse fala povo td bem arrumei um trampo e finalmente posso comprar um pc foda hoje eu possuo um note i78750h com uma gtx1060 6gb vou vender ele e o meu ps4 e estava querendo comprar um pc na faixa de 10k porque estava afim de finalmente começar a jogar em resolução 4k com esse orçamento qual config vcs me recomendam clique para expandir apesar de eu achar a placa mãe q botam nessas cfgs mto básicas d não possui dissipador sobre os vrms recomendo este httpswwwterabyteshopcombrproduto19689pcgamertgamerhawkinteli510400fnvidiageforcertx3070ddr48gbssd240gb aí só add outro pente e pegar um hdd de 1 ou 2tb ou montar um pc c pçs parecidas mas c uma asus prime h510ma a q vem c dissipador sobre os vrms e caso queira economizar o máx c mobo a outra alt é pegar um kit 10400f asus tuf gaming b560m plus e ir montando aos poucos slaxon disse galera estou há anos parado e sem atualizar o meu pc atualmente gastando até 6 mil quais as peças de melhor custoxbenefício clique para expandir apesar de detestar gabinete ser fechado recomendo este httpswwwterabyteshopcombrpro10400famdradeonrx6600ddr48gbssd240gb aí só add outro pente e hdd de 1 ou 2tb ayrton000 disse galera duvida sobre o up que fiz sai de memoria 2666mhz para 3600mhz o problema é que usando a b450m steel legend não consigo fazer o windows subir usando o xmp de 3600mhz consegui usar normalmente com 3533mhz pelo xmp o que é dito como limite oc no site da placa mãe gostaria de saber se alguém conseguiu rodar memorias com maiores frequências com essa placa mãe ou de fato o limite é 3533mhz clique para expandir tentou subir os timmings pelo q vi o chip dessa geil orion usa samsung cdie q diz ser bem zoada pra oc podem subirem até s 3800mhz mas c os timmings bem relaxados esta análise pode te esclarecer melhor review completo da memória geil orion de 3600mhz dicas pc fala pessoal beleza nesse review irei analisar um kit de memória da geil da nova série orion que oferece modelos que vão desde os 2666mhz até 4000mhz com capacidades que variam desde os 8 gb até os 32 gb para cada módulo o kit em questão é composto de dois módulos 3600mhz 18222242 de 8 dicaspccombr',\n",
       " 'antoniocarlos disse pesquisei e tem duas memórias diferentes sport lt 3000mhz e a rgb 3200mhz seria melhor a rgb com 3200mhz em tempo um watercooler se faz necessário com esse processador obrigado clique para expandir watercooler nunca é necessario eu pegaria a memória mais barata igor borges disse entendi mano com relação aos monitores eu ainda não vi nada e ainda não estudei o assunto realmente nem consigo conversar contigo ainda mas eu vou pesquisar sobre ainda e o gabinete pra caber tudo isso e o ssd e a fonte também o que recomenda clique para expandir gabinete é gosto pessoal eu fiz uma recomendação de fonte ali em cima pra outro usuário ssd procure o mais barato nvme no tamanho q te agrade post duplo é unido automaticamente 25022022 alfredo cardoso neto disse fala povo td bem arrumei um trampo e finalmente posso comprar um pc foda hoje eu possuo um note i78750h com uma gtx1060 6gb vou vender ele e o meu ps4 e estava querendo comprar um pc na faixa de 10k porque estava afim de finalmente começar a jogar em resolução 4k com esse orçamento qual config vcs me recomendam clique para expandir isso inclui monitor ou não em que monitorresoluçãofrequencia você vai jogar isso vai definir qual gpu você deve comprar já te adianto que no teu orçamento o máximo que dá pra levar realisticamente é uma 3070',\n",
       " 'r3v3ng3r disse apesar de eu achar a placa mãe q botam nessas cfgs mto básicas d não possui dissipador sobre os vrms recomendo este httpswwwterabyteshopcombrproduto19689pcgamertgamerhawkinteli510400fnvidiageforcertx3070ddr48gbssd240gb aí só add outro pente e pegar um hdd de 1 ou 2tb ou montar um pc c pçs parecidas mas c uma asus prime h510ma a q vem c dissipador sobre os vrms e caso queira economizar o máx c mobo a outra alt é pegar um kit 10400f asus tuf gaming b560m plus e ir montando aos poucos apesar de detestar gabinete ser fechado recomendo este httpswwwterabyteshopcombrpro10400famdradeonrx6600ddr48gbssd240gb aí só add outro pente e hdd de 1 ou 2tb tentou subir os timmings pelo q vi o chip dessa geil orion usa samsung cdie q diz ser bem zoada pra oc podem subirem até s 3800mhz mas c os timmings bem relaxados esta análise pode te esclarecer melhor review completo da memória geil orion de 3600mhz dicas pc fala pessoal beleza nesse review irei analisar um kit de memória da geil da nova série orion que oferece modelos que vão desde os 2666mhz até 4000mhz com capacidades que variam desde os 8 gb até os 32 gb para cada módulo o kit em questão é composto de dois módulos 3600mhz 18222242 de 8 dicaspccombr clique para expandir por esse valor montado não é melhor pegar da pichau não sei a qualidade de construção deles é pior ou não as peças estão abaixando acompanhando o pelando vi várias 3070 3060 caindo de preço talvez seja melhor eu esperar e pegar uma promo pq o que é caro mesmo no pc é a placa de vídeo post duplo é unido automaticamente 25022022 sephirotic disse watercooler nunca é necessario eu pegaria a memória mais barata gabinete é gosto pessoal eu fiz uma recomendação de fonte ali em cima pra outro usuário ssd procure o mais barato nvme no tamanho q te agrade post duplo é unido automaticamente 25022022 isso inclui monitor ou não em que monitorresoluçãofrequencia você vai jogar isso vai definir qual gpu você deve comprar já te adianto que no teu orçamento o máximo que dá pra levar realisticamente é uma 3070 clique para expandir só o desktop multiplayer pretendo jogar no meu monitor 1080p 165hz q tenho aqui agora single gostaria de jogar em uma tv 4k já vi algumas oled que tem o tempo de atraso pequeno e chegam a 120hz',\n",
       " 'até agora juntei essas peças para comprar alias a fonte eu já comprei fonte xpg core reactor 850w 80 plus gold modular fonte xpg core reactor 850w é modular e certificada com 80 plus gold tendo 90 de eficiência com 50 de carga garanta a sua fonte para pc compre já wwwkabumcombr 233c 59 de descontohot kingspec m2 nvme nvme m2 1tb ssd pcie ssd de 128gb solid state drive de 512gb 256gb 2tb 2280 hdd disco rígido interno para o desktop960gb ssdkingspec m2solid state disk aliexpress compre fácil viva melhor aliexpresscom ptaliexpresscom 63346c 29 de descontoamd ryzen 7 5800x r7 5800x cpu msi mag b550m morteiro wi fi placa mãe terno soquete am4 tudo novo mas sem refrigeradorplacasmães aliexpress compre fácil viva melhor aliexpresscom ptaliexpresscom e talvez esse gabinete httpswwwterabyteshopcombrproduto12929gabinetegamerlianlilancooliirgbmidtowervidrotemperadowhitesfonte',\n",
       " 'fala galera beleza esse é meu primeiro post aqui mas sempre acompanho o fórum estou montando um pc porém estou com algumas dúvidas sobre compatibilidade vou deixar a config aqui e se houver alguma incompatibilidade ou algum componente que seria melhor peço que me digam pois pesquisei bastante e não achei nada que fosse mais especifico pra config que estou montando obrigado config placa mae asrock b450m steel legend ddr4 socket am4 chipset amd b450 memoria adata xpg spectrix d60g 8gb ddr4 c18 3600mhz 2 pentes de 8gb pra usar em dual channel fonte mancer thunder 600w 80 plus bronze mcrthr600bl01 processador amd ryzen 7 5700g 8core 16threads 38ghz 46ghz turbo cache 20mb am4 hd toshiba p300 1tb 35 sata iii 6gbs cooler para processador amd wraith prism rgb preto kit ventoinhas cooler master sickleflow 120 argb 3x120mm 3 unidades ssd lexar nm610 500gb m2 2280 pcie nvme leitura 2100 mbs gravacao 1600 mbs lnm610500rbna']"
      ]
     },
     "execution_count": 93,
     "metadata": {},
     "output_type": "execute_result"
    }
   ],
   "source": [
    "scrapper.get_text_by_classname()"
   ]
  },
  {
   "cell_type": "code",
   "execution_count": 48,
   "metadata": {},
   "outputs": [],
   "source": [
    "\n",
    "links = ['https://forum.adrenaline.com.br/threads/indicacoes-de-aquisicao-de-pc-novo-configuracao-completa-gamer-profissional-uso-casual.691749/']"
   ]
  },
  {
   "cell_type": "code",
   "execution_count": 96,
   "metadata": {},
   "outputs": [],
   "source": [
    "\n",
    "\n",
    "comments = []\n",
    "for i in range(1, 50):\n",
    "    comments.extend(WebScraper(links[0] + f'page-{i}').get_text_by_classname())\n"
   ]
  },
  {
   "cell_type": "code",
   "execution_count": 98,
   "metadata": {},
   "outputs": [],
   "source": [
    "df = pd.DataFrame(comments, columns=['comments'])"
   ]
  },
  {
   "cell_type": "code",
   "execution_count": 117,
   "metadata": {},
   "outputs": [],
   "source": []
  },
  {
   "cell_type": "code",
   "execution_count": 109,
   "metadata": {},
   "outputs": [],
   "source": [
    "from textblob import TextBlob\n",
    "import nltk"
   ]
  },
  {
   "cell_type": "code",
   "execution_count": 113,
   "metadata": {},
   "outputs": [],
   "source": [
    "# nltk.download()"
   ]
  },
  {
   "cell_type": "code",
   "execution_count": 126,
   "metadata": {},
   "outputs": [
    {
     "name": "stdout",
     "output_type": "stream",
     "text": [
      "Sentiment(polarity=0.35, subjectivity=0.55)\n"
     ]
    }
   ],
   "source": [
    "text = df['comments'][5]\n",
    "\n",
    "blob = TextBlob(text)\n",
    "blob.tags  # [('The', 'DT'), ('titular', 'JJ'),\n",
    "#  ('threat', 'NN'), ('of', 'IN'), ...]\n",
    "\n",
    "blob.noun_phrases  # WordList(['titular threat', 'blob',\n",
    "#            'ultimate movie monster',\n",
    "#            'amoeba-like mass', ...])\n",
    "\n",
    "for sentence in blob.sentences:\n",
    "    print(sentence.sentiment)\n",
    "# 0.060\n",
    "# -0.341"
   ]
  },
  {
   "cell_type": "code",
   "execution_count": 127,
   "metadata": {},
   "outputs": [
    {
     "data": {
      "text/plain": [
       "'boa tarde pessoal tenho uma máquina frankenstein aqui i5 2310 12 gb ram genéricas rx 480 8 gb da msi fonte evga 650 w quero dar um up inicialmente na cpu queria opções para fazer essa mudança a placa de vídeo ta velhinha mas diante dos preços atuais estou me agarrando a ela mesma tenho preferência por processadores com vídeo integrado pois já tive a experiência de ter uma placa de vídeo queimada e ficar com o pc inutilizado por um tempo a finalidade do pc será para jogos mesmo porém me contento com um bom full hd com isso quais cpu mobo memoria posso estar pegando para ter uma máquina rodando os títulos atuais em 60 fps ps tenho disponível 3500 para atualizar'"
      ]
     },
     "execution_count": 127,
     "metadata": {},
     "output_type": "execute_result"
    }
   ],
   "source": [
    "df['comments'][5]"
   ]
  },
  {
   "cell_type": "code",
   "execution_count": 128,
   "metadata": {},
   "outputs": [],
   "source": [
    "df['sentiment'] = df['comments'].apply(lambda x: TextBlob(x).sentiment)"
   ]
  },
  {
   "cell_type": "code",
   "execution_count": 129,
   "metadata": {},
   "outputs": [
    {
     "data": {
      "text/html": [
       "<div>\n",
       "<style scoped>\n",
       "    .dataframe tbody tr th:only-of-type {\n",
       "        vertical-align: middle;\n",
       "    }\n",
       "\n",
       "    .dataframe tbody tr th {\n",
       "        vertical-align: top;\n",
       "    }\n",
       "\n",
       "    .dataframe thead th {\n",
       "        text-align: right;\n",
       "    }\n",
       "</style>\n",
       "<table border=\"1\" class=\"dataframe\">\n",
       "  <thead>\n",
       "    <tr style=\"text-align: right;\">\n",
       "      <th></th>\n",
       "      <th>comments</th>\n",
       "      <th>sentiment</th>\n",
       "    </tr>\n",
       "  </thead>\n",
       "  <tbody>\n",
       "    <tr>\n",
       "      <th>0</th>\n",
       "      <td>tópico para concentrar mensagens de quem busca...</td>\n",
       "      <td>(0.0, 0.0)</td>\n",
       "    </tr>\n",
       "    <tr>\n",
       "      <th>1</th>\n",
       "      <td>pessoal uma dúvida sobre config to pensando em...</td>\n",
       "      <td>(0.175, 0.275)</td>\n",
       "    </tr>\n",
       "    <tr>\n",
       "      <th>2</th>\n",
       "      <td>senhores deem uma luz aqui por favor estou que...</td>\n",
       "      <td>(0.1, 0.6)</td>\n",
       "    </tr>\n",
       "    <tr>\n",
       "      <th>3</th>\n",
       "      <td>boa tarde pessoal ando meio desatualizado no q...</td>\n",
       "      <td>(0.0, 0.0)</td>\n",
       "    </tr>\n",
       "    <tr>\n",
       "      <th>4</th>\n",
       "      <td>retfield disse boa tarde pessoal ando meio des...</td>\n",
       "      <td>(0.0, 1.0)</td>\n",
       "    </tr>\n",
       "    <tr>\n",
       "      <th>...</th>\n",
       "      <td>...</td>\n",
       "      <td>...</td>\n",
       "    </tr>\n",
       "    <tr>\n",
       "      <th>1220</th>\n",
       "      <td>montar pc gamer para jogar diablo 4 ajudem pes...</td>\n",
       "      <td>(0.375, 0.75)</td>\n",
       "    </tr>\n",
       "    <tr>\n",
       "      <th>1221</th>\n",
       "      <td>krauseoasis disse montar pc gamer para jogar d...</td>\n",
       "      <td>(0.16944444444444443, 0.5722222222222222)</td>\n",
       "    </tr>\n",
       "    <tr>\n",
       "      <th>1222</th>\n",
       "      <td>a b350 ds3h v2 suporta a 5900x em stock com hi...</td>\n",
       "      <td>(0.0, 0.0)</td>\n",
       "    </tr>\n",
       "    <tr>\n",
       "      <th>1223</th>\n",
       "      <td>shinolo disse a b350 ds3h v2 suporta a 5900x e...</td>\n",
       "      <td>(0.0, 0.0)</td>\n",
       "    </tr>\n",
       "    <tr>\n",
       "      <th>1224</th>\n",
       "      <td>thiago mendes93 disse galera preciso de uma aj...</td>\n",
       "      <td>(0.11666666666666665, 0.5166666666666667)</td>\n",
       "    </tr>\n",
       "  </tbody>\n",
       "</table>\n",
       "<p>1225 rows × 2 columns</p>\n",
       "</div>"
      ],
      "text/plain": [
       "                                               comments  \\\n",
       "0     tópico para concentrar mensagens de quem busca...   \n",
       "1     pessoal uma dúvida sobre config to pensando em...   \n",
       "2     senhores deem uma luz aqui por favor estou que...   \n",
       "3     boa tarde pessoal ando meio desatualizado no q...   \n",
       "4     retfield disse boa tarde pessoal ando meio des...   \n",
       "...                                                 ...   \n",
       "1220  montar pc gamer para jogar diablo 4 ajudem pes...   \n",
       "1221  krauseoasis disse montar pc gamer para jogar d...   \n",
       "1222  a b350 ds3h v2 suporta a 5900x em stock com hi...   \n",
       "1223  shinolo disse a b350 ds3h v2 suporta a 5900x e...   \n",
       "1224  thiago mendes93 disse galera preciso de uma aj...   \n",
       "\n",
       "                                      sentiment  \n",
       "0                                    (0.0, 0.0)  \n",
       "1                                (0.175, 0.275)  \n",
       "2                                    (0.1, 0.6)  \n",
       "3                                    (0.0, 0.0)  \n",
       "4                                    (0.0, 1.0)  \n",
       "...                                         ...  \n",
       "1220                              (0.375, 0.75)  \n",
       "1221  (0.16944444444444443, 0.5722222222222222)  \n",
       "1222                                 (0.0, 0.0)  \n",
       "1223                                 (0.0, 0.0)  \n",
       "1224  (0.11666666666666665, 0.5166666666666667)  \n",
       "\n",
       "[1225 rows x 2 columns]"
      ]
     },
     "execution_count": 129,
     "metadata": {},
     "output_type": "execute_result"
    }
   ],
   "source": [
    "df"
   ]
  },
  {
   "cell_type": "code",
   "execution_count": 130,
   "metadata": {},
   "outputs": [],
   "source": [
    "df.to_csv('comments.csv', index=False)"
   ]
  },
  {
   "cell_type": "code",
   "execution_count": null,
   "metadata": {},
   "outputs": [],
   "source": []
  }
 ],
 "metadata": {
  "kernelspec": {
   "display_name": "base",
   "language": "python",
   "name": "python3"
  },
  "language_info": {
   "codemirror_mode": {
    "name": "ipython",
    "version": 3
   },
   "file_extension": ".py",
   "mimetype": "text/x-python",
   "name": "python",
   "nbconvert_exporter": "python",
   "pygments_lexer": "ipython3",
   "version": "3.11.7"
  }
 },
 "nbformat": 4,
 "nbformat_minor": 2
}
